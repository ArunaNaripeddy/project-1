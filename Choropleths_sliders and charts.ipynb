{
 "cells": [
  {
   "cell_type": "code",
   "execution_count": 5,
   "metadata": {},
   "outputs": [
    {
     "data": {
      "text/html": [
       "<script>requirejs.config({paths: { 'plotly': ['https://cdn.plot.ly/plotly-latest.min']},});if(!window.Plotly) {{require(['plotly'],function(plotly) {window.Plotly=plotly;});}}</script>"
      ],
      "text/vnd.plotly.v1+html": [
       "<script>requirejs.config({paths: { 'plotly': ['https://cdn.plot.ly/plotly-latest.min']},});if(!window.Plotly) {{require(['plotly'],function(plotly) {window.Plotly=plotly;});}}</script>"
      ]
     },
     "metadata": {},
     "output_type": "display_data"
    }
   ],
   "source": [
    "import plotly\n",
    "import plotly.plotly as py\n",
    "import pandas as pd\n",
    "import numpy as np\n",
    "import plotly.offline as py\n",
    "import plotly.graph_objs as go\n",
    "import plotly.figure_factory as ff\n",
    "# plotly.tools.set_credentials_file(username='michaelgarza', api_key='Dqqcuh2voaSqHOqQFP5W')\n",
    "py.init_notebook_mode(connected=True)"
   ]
  },
  {
   "cell_type": "code",
   "execution_count": 8,
   "metadata": {},
   "outputs": [
    {
     "ename": "PlotlyRequestError",
     "evalue": "Account limit reached: Your account is limited to creating 25 charts. To continue, you can override or delete existing charts or you can upgrade your account at: https://plot.ly/products/cloud",
     "output_type": "error",
     "traceback": [
      "\u001b[0;31m---------------------------------------------------------------------------\u001b[0m",
      "\u001b[0;31mPlotlyRequestError\u001b[0m                        Traceback (most recent call last)",
      "\u001b[0;32m<ipython-input-8-9ce62a69d96f>\u001b[0m in \u001b[0;36m<module>\u001b[0;34m()\u001b[0m\n\u001b[1;32m     31\u001b[0m fig = dict(data=data, \n\u001b[1;32m     32\u001b[0m            layout=layout)\n\u001b[0;32m---> 33\u001b[0;31m \u001b[0mpy\u001b[0m\u001b[0;34m.\u001b[0m\u001b[0miplot\u001b[0m\u001b[0;34m(\u001b[0m\u001b[0mfig\u001b[0m\u001b[0;34m,\u001b[0m \u001b[0mvalidate\u001b[0m\u001b[0;34m=\u001b[0m\u001b[0;32mFalse\u001b[0m\u001b[0;34m)\u001b[0m\u001b[0;34m\u001b[0m\u001b[0m\n\u001b[0m",
      "\u001b[0;32m~/anaconda3/envs/PythonData/lib/python3.6/site-packages/plotly/plotly/plotly.py\u001b[0m in \u001b[0;36miplot\u001b[0;34m(figure_or_data, **plot_options)\u001b[0m\n\u001b[1;32m    138\u001b[0m     \u001b[0;32mif\u001b[0m \u001b[0;34m'auto_open'\u001b[0m \u001b[0;32mnot\u001b[0m \u001b[0;32min\u001b[0m \u001b[0mplot_options\u001b[0m\u001b[0;34m:\u001b[0m\u001b[0;34m\u001b[0m\u001b[0m\n\u001b[1;32m    139\u001b[0m         \u001b[0mplot_options\u001b[0m\u001b[0;34m[\u001b[0m\u001b[0;34m'auto_open'\u001b[0m\u001b[0;34m]\u001b[0m \u001b[0;34m=\u001b[0m \u001b[0;32mFalse\u001b[0m\u001b[0;34m\u001b[0m\u001b[0m\n\u001b[0;32m--> 140\u001b[0;31m     \u001b[0murl\u001b[0m \u001b[0;34m=\u001b[0m \u001b[0mplot\u001b[0m\u001b[0;34m(\u001b[0m\u001b[0mfigure_or_data\u001b[0m\u001b[0;34m,\u001b[0m \u001b[0;34m**\u001b[0m\u001b[0mplot_options\u001b[0m\u001b[0;34m)\u001b[0m\u001b[0;34m\u001b[0m\u001b[0m\n\u001b[0m\u001b[1;32m    141\u001b[0m \u001b[0;34m\u001b[0m\u001b[0m\n\u001b[1;32m    142\u001b[0m     \u001b[0;32mif\u001b[0m \u001b[0misinstance\u001b[0m\u001b[0;34m(\u001b[0m\u001b[0mfigure_or_data\u001b[0m\u001b[0;34m,\u001b[0m \u001b[0mdict\u001b[0m\u001b[0;34m)\u001b[0m\u001b[0;34m:\u001b[0m\u001b[0;34m\u001b[0m\u001b[0m\n",
      "\u001b[0;32m~/anaconda3/envs/PythonData/lib/python3.6/site-packages/plotly/plotly/plotly.py\u001b[0m in \u001b[0;36mplot\u001b[0;34m(figure_or_data, validate, **plot_options)\u001b[0m\n\u001b[1;32m    231\u001b[0m     \u001b[0mdata\u001b[0m \u001b[0;34m=\u001b[0m \u001b[0mfig\u001b[0m\u001b[0;34m.\u001b[0m\u001b[0mget\u001b[0m\u001b[0;34m(\u001b[0m\u001b[0;34m'data'\u001b[0m\u001b[0;34m,\u001b[0m \u001b[0;34m[\u001b[0m\u001b[0;34m]\u001b[0m\u001b[0;34m)\u001b[0m\u001b[0;34m\u001b[0m\u001b[0m\n\u001b[1;32m    232\u001b[0m     \u001b[0mplot_options\u001b[0m\u001b[0;34m[\u001b[0m\u001b[0;34m'layout'\u001b[0m\u001b[0;34m]\u001b[0m \u001b[0;34m=\u001b[0m \u001b[0mfig\u001b[0m\u001b[0;34m.\u001b[0m\u001b[0mget\u001b[0m\u001b[0;34m(\u001b[0m\u001b[0;34m'layout'\u001b[0m\u001b[0;34m,\u001b[0m \u001b[0;34m{\u001b[0m\u001b[0;34m}\u001b[0m\u001b[0;34m)\u001b[0m\u001b[0;34m\u001b[0m\u001b[0m\n\u001b[0;32m--> 233\u001b[0;31m     \u001b[0mresponse\u001b[0m \u001b[0;34m=\u001b[0m \u001b[0mv1\u001b[0m\u001b[0;34m.\u001b[0m\u001b[0mclientresp\u001b[0m\u001b[0;34m(\u001b[0m\u001b[0mdata\u001b[0m\u001b[0;34m,\u001b[0m \u001b[0;34m**\u001b[0m\u001b[0mplot_options\u001b[0m\u001b[0;34m)\u001b[0m\u001b[0;34m\u001b[0m\u001b[0m\n\u001b[0m\u001b[1;32m    234\u001b[0m \u001b[0;34m\u001b[0m\u001b[0m\n\u001b[1;32m    235\u001b[0m     \u001b[0;31m# Check if the url needs a secret key\u001b[0m\u001b[0;34m\u001b[0m\u001b[0;34m\u001b[0m\u001b[0m\n",
      "\u001b[0;32m~/anaconda3/envs/PythonData/lib/python3.6/site-packages/plotly/api/v1/clientresp.py\u001b[0m in \u001b[0;36mclientresp\u001b[0;34m(data, **kwargs)\u001b[0m\n\u001b[1;32m     33\u001b[0m \u001b[0;34m\u001b[0m\u001b[0m\n\u001b[1;32m     34\u001b[0m     \u001b[0murl\u001b[0m \u001b[0;34m=\u001b[0m \u001b[0;34m'{plotly_domain}/clientresp'\u001b[0m\u001b[0;34m.\u001b[0m\u001b[0mformat\u001b[0m\u001b[0;34m(\u001b[0m\u001b[0;34m**\u001b[0m\u001b[0mcfg\u001b[0m\u001b[0;34m)\u001b[0m\u001b[0;34m\u001b[0m\u001b[0m\n\u001b[0;32m---> 35\u001b[0;31m     \u001b[0mresponse\u001b[0m \u001b[0;34m=\u001b[0m \u001b[0mrequest\u001b[0m\u001b[0;34m(\u001b[0m\u001b[0;34m'post'\u001b[0m\u001b[0;34m,\u001b[0m \u001b[0murl\u001b[0m\u001b[0;34m,\u001b[0m \u001b[0mdata\u001b[0m\u001b[0;34m=\u001b[0m\u001b[0mpayload\u001b[0m\u001b[0;34m)\u001b[0m\u001b[0;34m\u001b[0m\u001b[0m\n\u001b[0m\u001b[1;32m     36\u001b[0m \u001b[0;34m\u001b[0m\u001b[0m\n\u001b[1;32m     37\u001b[0m     \u001b[0;31m# Old functionality, just keeping it around.\u001b[0m\u001b[0;34m\u001b[0m\u001b[0;34m\u001b[0m\u001b[0m\n",
      "\u001b[0;32m~/anaconda3/envs/PythonData/lib/python3.6/site-packages/plotly/api/v1/utils.py\u001b[0m in \u001b[0;36mrequest\u001b[0;34m(method, url, **kwargs)\u001b[0m\n\u001b[1;32m     84\u001b[0m         \u001b[0mcontent\u001b[0m \u001b[0;34m=\u001b[0m \u001b[0mresponse\u001b[0m\u001b[0;34m.\u001b[0m\u001b[0mcontent\u001b[0m \u001b[0;32mif\u001b[0m \u001b[0mresponse\u001b[0m \u001b[0;32melse\u001b[0m \u001b[0;34m'No content'\u001b[0m\u001b[0;34m\u001b[0m\u001b[0m\n\u001b[1;32m     85\u001b[0m         \u001b[0;32mraise\u001b[0m \u001b[0mexceptions\u001b[0m\u001b[0;34m.\u001b[0m\u001b[0mPlotlyRequestError\u001b[0m\u001b[0;34m(\u001b[0m\u001b[0mmessage\u001b[0m\u001b[0;34m,\u001b[0m \u001b[0mstatus_code\u001b[0m\u001b[0;34m,\u001b[0m \u001b[0mcontent\u001b[0m\u001b[0;34m)\u001b[0m\u001b[0;34m\u001b[0m\u001b[0m\n\u001b[0;32m---> 86\u001b[0;31m     \u001b[0mvalidate_response\u001b[0m\u001b[0;34m(\u001b[0m\u001b[0mresponse\u001b[0m\u001b[0;34m)\u001b[0m\u001b[0;34m\u001b[0m\u001b[0m\n\u001b[0m\u001b[1;32m     87\u001b[0m     \u001b[0;32mreturn\u001b[0m \u001b[0mresponse\u001b[0m\u001b[0;34m\u001b[0m\u001b[0m\n",
      "\u001b[0;32m~/anaconda3/envs/PythonData/lib/python3.6/site-packages/plotly/api/v1/utils.py\u001b[0m in \u001b[0;36mvalidate_response\u001b[0;34m(response)\u001b[0m\n\u001b[1;32m     36\u001b[0m         \u001b[0mmessage\u001b[0m \u001b[0;34m=\u001b[0m \u001b[0mcontent\u001b[0m \u001b[0;32mif\u001b[0m \u001b[0mcontent\u001b[0m \u001b[0;32melse\u001b[0m \u001b[0;34m'No Content'\u001b[0m\u001b[0;34m\u001b[0m\u001b[0m\n\u001b[1;32m     37\u001b[0m \u001b[0;34m\u001b[0m\u001b[0m\n\u001b[0;32m---> 38\u001b[0;31m     \u001b[0;32mraise\u001b[0m \u001b[0mexceptions\u001b[0m\u001b[0;34m.\u001b[0m\u001b[0mPlotlyRequestError\u001b[0m\u001b[0;34m(\u001b[0m\u001b[0mmessage\u001b[0m\u001b[0;34m,\u001b[0m \u001b[0mstatus_code\u001b[0m\u001b[0;34m,\u001b[0m \u001b[0mcontent\u001b[0m\u001b[0;34m)\u001b[0m\u001b[0;34m\u001b[0m\u001b[0m\n\u001b[0m\u001b[1;32m     39\u001b[0m \u001b[0;34m\u001b[0m\u001b[0m\n\u001b[1;32m     40\u001b[0m \u001b[0;34m\u001b[0m\u001b[0m\n",
      "\u001b[0;31mPlotlyRequestError\u001b[0m: Account limit reached: Your account is limited to creating 25 charts. To continue, you can override or delete existing charts or you can upgrade your account at: https://plot.ly/products/cloud"
     ]
    }
   ],
   "source": [
    "\n",
    "url = 'https://raw.githubusercontent.com/alyssflynn/project-1/master/clean_data/county_aqi_1980_2018.csv'\n",
    "dataset = pd.read_csv(url)\n",
    "years = sorted(list(set(dataset.Year)))\n",
    "\n",
    "data = []\n",
    "\n",
    "for year in years:\n",
    "    df = dataset[dataset.Year ==year].copy(deep=True)\n",
    "    this_dict = dict(type='choropleth',\n",
    "             locations = df['State Abbreviation'].astype(str),\n",
    "             z=df['Median AQI'].astype(float),\n",
    "             locationmode=\"USA-states\")\n",
    "    data.append(this_dict)\n",
    "# let's create the steps for the slider\n",
    "steps = []\n",
    "for i in range(len(data)):\n",
    "    step = dict(method='restyle',\n",
    "                args=['visible', [False] * len(data)],\n",
    "                label='Year {}'.format(i + 1980))\n",
    "    step['args'][1][i] = True\n",
    "    steps.append(step)\n",
    "\n",
    "sliders = [dict(active=0,\n",
    "                pad={\"t\": 1},\n",
    "                steps=steps)]    \n",
    "layout = dict(geo=dict(scope='usa', \n",
    "                       projection={'type': 'Mercator'}), \n",
    "              sliders=sliders,)\n",
    "            \n",
    "fig = dict(data=data, \n",
    "           layout=layout)\n",
    "py.iplot(fig, validate=False)"
   ]
  },
  {
   "cell_type": "code",
   "execution_count": 3,
   "metadata": {},
   "outputs": [
    {
     "data": {
      "text/html": [
       "<iframe id=\"igraph\" scrolling=\"no\" style=\"border:none;\" seamless=\"seamless\" src=\"https://plot.ly/~michaelgarza/85.embed\" height=\"525px\" width=\"100%\"></iframe>"
      ],
      "text/plain": [
       "<plotly.tools.PlotlyDisplay object>"
      ]
     },
     "execution_count": 3,
     "metadata": {},
     "output_type": "execute_result"
    }
   ],
   "source": [
    "import pandas as pd\n",
    "import plotly\n",
    "import numpy as np\n",
    "plotly.tools.set_credentials_file(username='michaelgarza', api_key='Dqqcuh2voaSqHOqQFP5W')\n",
    "import plotly.graph_objs as go\n",
    "import plotly.figure_factory as ff\n",
    "import plotly.plotly as py\n",
    "\n",
    "\n",
    "url = 'https://raw.githubusercontent.com/alyssflynn/project-1/master/clean_data/county_aqi_1980_2018.csv'\n",
    "dataset = pd.read_csv(url)\n",
    "years = sorted(list(set(dataset.Year)))\n",
    "\n",
    "data = []\n",
    "\n",
    "for year in years:\n",
    "    df = dataset[dataset.Year ==year].copy(deep=True)\n",
    "    this_dict = dict(type='choropleth',\n",
    "             locations = df['State Abbreviation'].astype(str),\n",
    "             z=df['Days Ozone'].astype(float),\n",
    "             locationmode=\"USA-states\")\n",
    "    data.append(this_dict)\n",
    "# let's create the steps for the slider\n",
    "steps = []\n",
    "for i in range(len(data)):\n",
    "    step = dict(method='restyle',\n",
    "                args=['visible', [False] * len(data)],\n",
    "                label='Year {}'.format(i + 1980))\n",
    "    step['args'][1][i] = True\n",
    "    steps.append(step)\n",
    "\n",
    "sliders = [dict(active=0,\n",
    "                pad={\"t\": 1},\n",
    "                steps=steps)]    \n",
    "layout = dict(geo=dict(scope='usa',\n",
    "                       projection={'type': 'Mercator'}),\n",
    "              sliders=sliders,)\n",
    "\n",
    "fig = dict(data=data, \n",
    "           layout=layout)\n",
    "py.iplot(fig, validate=False)"
   ]
  },
  {
   "cell_type": "code",
   "execution_count": 4,
   "metadata": {},
   "outputs": [
    {
     "ename": "PlotlyRequestError",
     "evalue": "Account limit reached: Your account is limited to creating 25 charts. To continue, you can override or delete existing charts or you can upgrade your account at: https://plot.ly/products/cloud",
     "output_type": "error",
     "traceback": [
      "\u001b[0;31m---------------------------------------------------------------------------\u001b[0m",
      "\u001b[0;31mPlotlyRequestError\u001b[0m                        Traceback (most recent call last)",
      "\u001b[0;32m<ipython-input-4-0d05164faa93>\u001b[0m in \u001b[0;36m<module>\u001b[0;34m()\u001b[0m\n\u001b[1;32m     39\u001b[0m fig = dict(data=data, \n\u001b[1;32m     40\u001b[0m            layout=layout)\n\u001b[0;32m---> 41\u001b[0;31m \u001b[0mpy\u001b[0m\u001b[0;34m.\u001b[0m\u001b[0miplot\u001b[0m\u001b[0;34m(\u001b[0m\u001b[0mfig\u001b[0m\u001b[0;34m,\u001b[0m \u001b[0mvalidate\u001b[0m\u001b[0;34m=\u001b[0m\u001b[0;32mFalse\u001b[0m\u001b[0;34m)\u001b[0m\u001b[0;34m\u001b[0m\u001b[0m\n\u001b[0m",
      "\u001b[0;32m~/anaconda3/envs/PythonData/lib/python3.6/site-packages/plotly/plotly/plotly.py\u001b[0m in \u001b[0;36miplot\u001b[0;34m(figure_or_data, **plot_options)\u001b[0m\n\u001b[1;32m    138\u001b[0m     \u001b[0;32mif\u001b[0m \u001b[0;34m'auto_open'\u001b[0m \u001b[0;32mnot\u001b[0m \u001b[0;32min\u001b[0m \u001b[0mplot_options\u001b[0m\u001b[0;34m:\u001b[0m\u001b[0;34m\u001b[0m\u001b[0m\n\u001b[1;32m    139\u001b[0m         \u001b[0mplot_options\u001b[0m\u001b[0;34m[\u001b[0m\u001b[0;34m'auto_open'\u001b[0m\u001b[0;34m]\u001b[0m \u001b[0;34m=\u001b[0m \u001b[0;32mFalse\u001b[0m\u001b[0;34m\u001b[0m\u001b[0m\n\u001b[0;32m--> 140\u001b[0;31m     \u001b[0murl\u001b[0m \u001b[0;34m=\u001b[0m \u001b[0mplot\u001b[0m\u001b[0;34m(\u001b[0m\u001b[0mfigure_or_data\u001b[0m\u001b[0;34m,\u001b[0m \u001b[0;34m**\u001b[0m\u001b[0mplot_options\u001b[0m\u001b[0;34m)\u001b[0m\u001b[0;34m\u001b[0m\u001b[0m\n\u001b[0m\u001b[1;32m    141\u001b[0m \u001b[0;34m\u001b[0m\u001b[0m\n\u001b[1;32m    142\u001b[0m     \u001b[0;32mif\u001b[0m \u001b[0misinstance\u001b[0m\u001b[0;34m(\u001b[0m\u001b[0mfigure_or_data\u001b[0m\u001b[0;34m,\u001b[0m \u001b[0mdict\u001b[0m\u001b[0;34m)\u001b[0m\u001b[0;34m:\u001b[0m\u001b[0;34m\u001b[0m\u001b[0m\n",
      "\u001b[0;32m~/anaconda3/envs/PythonData/lib/python3.6/site-packages/plotly/plotly/plotly.py\u001b[0m in \u001b[0;36mplot\u001b[0;34m(figure_or_data, validate, **plot_options)\u001b[0m\n\u001b[1;32m    231\u001b[0m     \u001b[0mdata\u001b[0m \u001b[0;34m=\u001b[0m \u001b[0mfig\u001b[0m\u001b[0;34m.\u001b[0m\u001b[0mget\u001b[0m\u001b[0;34m(\u001b[0m\u001b[0;34m'data'\u001b[0m\u001b[0;34m,\u001b[0m \u001b[0;34m[\u001b[0m\u001b[0;34m]\u001b[0m\u001b[0;34m)\u001b[0m\u001b[0;34m\u001b[0m\u001b[0m\n\u001b[1;32m    232\u001b[0m     \u001b[0mplot_options\u001b[0m\u001b[0;34m[\u001b[0m\u001b[0;34m'layout'\u001b[0m\u001b[0;34m]\u001b[0m \u001b[0;34m=\u001b[0m \u001b[0mfig\u001b[0m\u001b[0;34m.\u001b[0m\u001b[0mget\u001b[0m\u001b[0;34m(\u001b[0m\u001b[0;34m'layout'\u001b[0m\u001b[0;34m,\u001b[0m \u001b[0;34m{\u001b[0m\u001b[0;34m}\u001b[0m\u001b[0;34m)\u001b[0m\u001b[0;34m\u001b[0m\u001b[0m\n\u001b[0;32m--> 233\u001b[0;31m     \u001b[0mresponse\u001b[0m \u001b[0;34m=\u001b[0m \u001b[0mv1\u001b[0m\u001b[0;34m.\u001b[0m\u001b[0mclientresp\u001b[0m\u001b[0;34m(\u001b[0m\u001b[0mdata\u001b[0m\u001b[0;34m,\u001b[0m \u001b[0;34m**\u001b[0m\u001b[0mplot_options\u001b[0m\u001b[0;34m)\u001b[0m\u001b[0;34m\u001b[0m\u001b[0m\n\u001b[0m\u001b[1;32m    234\u001b[0m \u001b[0;34m\u001b[0m\u001b[0m\n\u001b[1;32m    235\u001b[0m     \u001b[0;31m# Check if the url needs a secret key\u001b[0m\u001b[0;34m\u001b[0m\u001b[0;34m\u001b[0m\u001b[0m\n",
      "\u001b[0;32m~/anaconda3/envs/PythonData/lib/python3.6/site-packages/plotly/api/v1/clientresp.py\u001b[0m in \u001b[0;36mclientresp\u001b[0;34m(data, **kwargs)\u001b[0m\n\u001b[1;32m     33\u001b[0m \u001b[0;34m\u001b[0m\u001b[0m\n\u001b[1;32m     34\u001b[0m     \u001b[0murl\u001b[0m \u001b[0;34m=\u001b[0m \u001b[0;34m'{plotly_domain}/clientresp'\u001b[0m\u001b[0;34m.\u001b[0m\u001b[0mformat\u001b[0m\u001b[0;34m(\u001b[0m\u001b[0;34m**\u001b[0m\u001b[0mcfg\u001b[0m\u001b[0;34m)\u001b[0m\u001b[0;34m\u001b[0m\u001b[0m\n\u001b[0;32m---> 35\u001b[0;31m     \u001b[0mresponse\u001b[0m \u001b[0;34m=\u001b[0m \u001b[0mrequest\u001b[0m\u001b[0;34m(\u001b[0m\u001b[0;34m'post'\u001b[0m\u001b[0;34m,\u001b[0m \u001b[0murl\u001b[0m\u001b[0;34m,\u001b[0m \u001b[0mdata\u001b[0m\u001b[0;34m=\u001b[0m\u001b[0mpayload\u001b[0m\u001b[0;34m)\u001b[0m\u001b[0;34m\u001b[0m\u001b[0m\n\u001b[0m\u001b[1;32m     36\u001b[0m \u001b[0;34m\u001b[0m\u001b[0m\n\u001b[1;32m     37\u001b[0m     \u001b[0;31m# Old functionality, just keeping it around.\u001b[0m\u001b[0;34m\u001b[0m\u001b[0;34m\u001b[0m\u001b[0m\n",
      "\u001b[0;32m~/anaconda3/envs/PythonData/lib/python3.6/site-packages/plotly/api/v1/utils.py\u001b[0m in \u001b[0;36mrequest\u001b[0;34m(method, url, **kwargs)\u001b[0m\n\u001b[1;32m     84\u001b[0m         \u001b[0mcontent\u001b[0m \u001b[0;34m=\u001b[0m \u001b[0mresponse\u001b[0m\u001b[0;34m.\u001b[0m\u001b[0mcontent\u001b[0m \u001b[0;32mif\u001b[0m \u001b[0mresponse\u001b[0m \u001b[0;32melse\u001b[0m \u001b[0;34m'No content'\u001b[0m\u001b[0;34m\u001b[0m\u001b[0m\n\u001b[1;32m     85\u001b[0m         \u001b[0;32mraise\u001b[0m \u001b[0mexceptions\u001b[0m\u001b[0;34m.\u001b[0m\u001b[0mPlotlyRequestError\u001b[0m\u001b[0;34m(\u001b[0m\u001b[0mmessage\u001b[0m\u001b[0;34m,\u001b[0m \u001b[0mstatus_code\u001b[0m\u001b[0;34m,\u001b[0m \u001b[0mcontent\u001b[0m\u001b[0;34m)\u001b[0m\u001b[0;34m\u001b[0m\u001b[0m\n\u001b[0;32m---> 86\u001b[0;31m     \u001b[0mvalidate_response\u001b[0m\u001b[0;34m(\u001b[0m\u001b[0mresponse\u001b[0m\u001b[0;34m)\u001b[0m\u001b[0;34m\u001b[0m\u001b[0m\n\u001b[0m\u001b[1;32m     87\u001b[0m     \u001b[0;32mreturn\u001b[0m \u001b[0mresponse\u001b[0m\u001b[0;34m\u001b[0m\u001b[0m\n",
      "\u001b[0;32m~/anaconda3/envs/PythonData/lib/python3.6/site-packages/plotly/api/v1/utils.py\u001b[0m in \u001b[0;36mvalidate_response\u001b[0;34m(response)\u001b[0m\n\u001b[1;32m     36\u001b[0m         \u001b[0mmessage\u001b[0m \u001b[0;34m=\u001b[0m \u001b[0mcontent\u001b[0m \u001b[0;32mif\u001b[0m \u001b[0mcontent\u001b[0m \u001b[0;32melse\u001b[0m \u001b[0;34m'No Content'\u001b[0m\u001b[0;34m\u001b[0m\u001b[0m\n\u001b[1;32m     37\u001b[0m \u001b[0;34m\u001b[0m\u001b[0m\n\u001b[0;32m---> 38\u001b[0;31m     \u001b[0;32mraise\u001b[0m \u001b[0mexceptions\u001b[0m\u001b[0;34m.\u001b[0m\u001b[0mPlotlyRequestError\u001b[0m\u001b[0;34m(\u001b[0m\u001b[0mmessage\u001b[0m\u001b[0;34m,\u001b[0m \u001b[0mstatus_code\u001b[0m\u001b[0;34m,\u001b[0m \u001b[0mcontent\u001b[0m\u001b[0;34m)\u001b[0m\u001b[0;34m\u001b[0m\u001b[0m\n\u001b[0m\u001b[1;32m     39\u001b[0m \u001b[0;34m\u001b[0m\u001b[0m\n\u001b[1;32m     40\u001b[0m \u001b[0;34m\u001b[0m\u001b[0m\n",
      "\u001b[0;31mPlotlyRequestError\u001b[0m: Account limit reached: Your account is limited to creating 25 charts. To continue, you can override or delete existing charts or you can upgrade your account at: https://plot.ly/products/cloud"
     ]
    }
   ],
   "source": [
    "import pandas as pd\n",
    "import plotly\n",
    "import numpy as np\n",
    "plotly.tools.set_credentials_file(username='michaelgarza', api_key='Dqqcuh2voaSqHOqQFP5W')\n",
    "import plotly.graph_objs as go\n",
    "import plotly.figure_factory as ff\n",
    "import plotly.plotly as py\n",
    "\n",
    "\n",
    "url = 'https://raw.githubusercontent.com/alyssflynn/project-1/master/clean_data/county_aqi_1980_2018.csv'\n",
    "dataset = pd.read_csv(url)\n",
    "years = sorted(list(set(dataset.Year)))\n",
    "\n",
    "data = []\n",
    "\n",
    "for year in years:\n",
    "    df = dataset[dataset.Year ==year].copy(deep=True)\n",
    "    this_dict = dict(type='choropleth',\n",
    "             locations = df['State Abbreviation'].astype(str),\n",
    "             z=df['Max AQI'].astype(float),\n",
    "             locationmode=\"USA-states\")\n",
    "    data.append(this_dict)\n",
    "# let's create the steps for the slider\n",
    "steps = []\n",
    "for i in range(len(data)):\n",
    "    step = dict(method='restyle',\n",
    "                args=['visible', [False] * len(data)],\n",
    "                label='Year {}'.format(i + 1980))\n",
    "    step['args'][1][i] = True\n",
    "    steps.append(step)\n",
    "\n",
    "sliders = [dict(active=0,\n",
    "                pad={\"t\": 1},\n",
    "                steps=steps)]    \n",
    "layout = dict(geo=dict(scope='usa',\n",
    "                       projection={'type': 'Mercator'}),\n",
    "              sliders=sliders,)\n",
    "\n",
    "fig = dict(data=data, \n",
    "           layout=layout)\n",
    "py.iplot(fig, validate=False)"
   ]
  },
  {
   "cell_type": "code",
   "execution_count": null,
   "metadata": {
    "scrolled": true
   },
   "outputs": [],
   "source": [
    "data = pd.DataFrame.from_csv(\"https://raw.githubusercontent.com/alyssflynn/project-1/master/clean_data/county_aqi_1980_2018.csv\")"
   ]
  },
  {
   "cell_type": "code",
   "execution_count": null,
   "metadata": {},
   "outputs": [],
   "source": [
    "import matplotlib.pyplot as plt\n",
    "data.groupby(['Year']).groups.keys()\n",
    "plt.style.use('fivethirtyeight')\n",
    "# dataset = data.groupby('Year', as_index=False).agg({\"Max AQI\": \"mean\"})\n",
    "dataset = data.groupby(['Year'])[['Max AQI', 'Median AQI']].mean()\n",
    "dataset.plot.bar(figsize=(20,10))\n",
    "plt.title(\"United States: Average Air Quality Index from 2000-2018\")\n",
    "plt.ylabel(\"Index Values\")"
   ]
  },
  {
   "cell_type": "code",
   "execution_count": null,
   "metadata": {},
   "outputs": [],
   "source": [
    "plt.style.use('fivethirtyeight')\n",
    "gases = data.groupby(['Year'])[['Days CO', 'Days NO2', 'Days Ozone', 'Days SO2', 'Days PM2.5', 'Days PM10'  ]].mean()\n",
    "gases.plot.bar(figsize=(20,10))\n",
    "plt.title(\"Gases\")\n",
    "plt.ylabel(\"# of Days\")\n",
    "plt.legend(bbox_to_anchor=(1.1, 1.05))"
   ]
  },
  {
   "cell_type": "code",
   "execution_count": null,
   "metadata": {},
   "outputs": [],
   "source": [
    "plt.style.use('fivethirtyeight')\n",
    "gases = data.groupby(['Year'])[['Days Ozone', 'Days SO2', 'Days PM2.5' ]].mean()\n",
    "gases.plot.bar(figsize=(20,10))\n",
    "plt.title(\"Gases\")\n",
    "plt.ylabel(\"# of Days\")\n",
    "plt.legend(bbox_to_anchor=(1.1, 1.05))"
   ]
  },
  {
   "cell_type": "code",
   "execution_count": null,
   "metadata": {},
   "outputs": [],
   "source": [
    "import pandas as pd\n",
    "import matplotlib.pyplot as plt\n",
    "import seaborn as sns\n",
    "\n",
    "data.dropna(inplace=True)\n",
    "data.reset_index(inplace=True, drop=True)\n",
    "sns.set(style=\"dark\")\n",
    "\n",
    "ax = sns.barplot(x=\"Days Ozone\", y=\"State\", data=data, ci=100)\n",
    "fig = plt.gcf()\n",
    "fig.set_size_inches(20, 10)"
   ]
  },
  {
   "cell_type": "code",
   "execution_count": null,
   "metadata": {},
   "outputs": [],
   "source": [
    "import pandas as pd\n",
    "import matplotlib.pyplot as plt\n",
    "import seaborn as sns\n",
    "\n",
    "data.dropna(inplace=True)\n",
    "data.reset_index(inplace=True, drop=True)\n",
    "sns.set(style=\"dark\")\n",
    "\n",
    "ax = sns.barplot(x=\"Days PM2.5\", y=\"State\", data=data, ci=100)\n",
    "fig = plt.gcf()\n",
    "fig.set_size_inches(20, 10)"
   ]
  },
  {
   "cell_type": "code",
   "execution_count": null,
   "metadata": {},
   "outputs": [],
   "source": [
    "import pandas as pd\n",
    "import matplotlib.pyplot as plt\n",
    "import seaborn as sns\n",
    "\n",
    "data.dropna(inplace=True)\n",
    "data.reset_index(inplace=True, drop=True)\n",
    "sns.set(style=\"dark\")\n",
    "\n",
    "ax = sns.barplot(x=\"Days PM10\", y=\"State\", data=data, ci=100)\n",
    "fig = plt.gcf()\n",
    "fig.set_size_inches(20, 10)"
   ]
  },
  {
   "cell_type": "code",
   "execution_count": null,
   "metadata": {},
   "outputs": [],
   "source": [
    "import pandas as pd\n",
    "import matplotlib.pyplot as plt\n",
    "import seaborn as sns\n",
    "\n",
    "data.dropna(inplace=True)\n",
    "data.reset_index(inplace=True, drop=True)\n",
    "sns.set(style=\"dark\")\n",
    "\n",
    "ax = sns.barplot(x=\"Days SO2\", y=\"State\", data=data, ci=100)\n",
    "fig = plt.gcf()\n",
    "fig.set_size_inches(20, 10)"
   ]
  },
  {
   "cell_type": "code",
   "execution_count": null,
   "metadata": {},
   "outputs": [],
   "source": [
    "import pandas as pd\n",
    "import matplotlib.pyplot as plt\n",
    "import seaborn as sns\n",
    "\n",
    "data.dropna(inplace=True)\n",
    "data.reset_index(inplace=True, drop=True)\n",
    "sns.set(style=\"dark\")\n",
    "\n",
    "ax = sns.barplot(x=\"Median AQI\", y=\"State\", data=data, ci=100)\n",
    "fig = plt.gcf()\n",
    "fig.set_size_inches(20, 10)"
   ]
  },
  {
   "cell_type": "code",
   "execution_count": null,
   "metadata": {},
   "outputs": [],
   "source": [
    "import pandas as pd\n",
    "import numpy as np\n",
    "from datetime import datetime\n",
    "import matplotlib as mpl\n",
    "import matplotlib.pyplot as plt\n",
    "from matplotlib.animation import FuncAnimation"
   ]
  },
  {
   "cell_type": "code",
   "execution_count": null,
   "metadata": {},
   "outputs": [],
   "source": [
    "poll = pd.read_csv(\"Resources/pollution_us_2000_2016.csv\")"
   ]
  },
  {
   "cell_type": "code",
   "execution_count": null,
   "metadata": {},
   "outputs": [],
   "source": [
    "poll = poll.drop(['Unnamed: 0','State Code','County Code','Site Num','Address','NO2 Units','O3 Units','SO2 Units','CO Units'],axis=1)\n",
    "poll.head()"
   ]
  },
  {
   "cell_type": "code",
   "execution_count": null,
   "metadata": {},
   "outputs": [],
   "source": [
    "## Prepare all 4 AQIs against state and date \n",
    "pollSt = poll[['State','Date Local','NO2 AQI','O3 AQI','SO2 AQI','CO AQI']]\n",
    "pollSt = pollSt.dropna(axis='rows')  # Delete rows with NAs\n",
    "pollSt = pollSt[pollSt.State!='Country Of Mexico']  # Delete Mexico\n",
    "pollSt['Date Local'] = pd.to_datetime(pollSt['Date Local'],format='%Y-%m-%d')  # Change date from string to date value\n",
    "pollSt = pollSt.groupby(['State','Date Local']).mean()  # Take mean values if there are depulicated entries\n",
    "pollStGrouped = pollSt.groupby(level=0)"
   ]
  },
  {
   "cell_type": "code",
   "execution_count": null,
   "metadata": {},
   "outputs": [],
   "source": [
    "## Plot 4 AQIs with top 4 states\n",
    "plt.figure(figsize=(20,10))\n",
    "\n",
    "# NO2 AQI\n",
    "plt.subplot(221)\n",
    "pollNO2 = pollStGrouped['NO2 AQI']\n",
    "pollNO2Top = pollNO2.mean().nlargest(4).index\n",
    "for i in range(len(pollNO2Top)):\n",
    "    pollNO2.get_group(pollNO2Top[i]).groupby(pd.Grouper(level='Date Local',freq='M')).mean().plot()\n",
    "plt.legend(pollNO2Top,loc=3,fontsize='small')\n",
    "plt.title('NO2 AQI')\n",
    "\n",
    "# O3 AQI\n",
    "plt.subplot(222)\n",
    "pollO3 = pollStGrouped['O3 AQI']\n",
    "pollO3Top = pollO3.mean().nlargest(4).index\n",
    "for i in range(len(pollO3Top)):\n",
    "    pollO3.get_group(pollO3Top[i]).groupby(pd.Grouper(level='Date Local',freq='M')).mean().plot()\n",
    "plt.legend(pollO3Top,loc=3,fontsize='small')\n",
    "plt.title('O3 AQI')\n",
    "\n",
    "# SO2 AQI\n",
    "plt.subplot(223)\n",
    "pollSO2 = pollStGrouped['SO2 AQI']\n",
    "pollSO2Top = pollSO2.mean().nlargest(4).index\n",
    "for i in range(len(pollSO2Top)):\n",
    "    pollSO2.get_group(pollSO2Top[i]).groupby(pd.Grouper(level='Date Local',freq='M')).mean().plot()\n",
    "plt.legend(pollSO2Top,loc=3,fontsize='small')\n",
    "plt.title('SO2 AQI')\n",
    "\n",
    "# CO AQI\n",
    "plt.subplot(224)\n",
    "pollCO = pollStGrouped['CO AQI']\n",
    "pollCOTop = pollCO.mean().nlargest(4).index\n",
    "for i in range(len(pollCOTop)):\n",
    "    pollCO.get_group(pollCOTop[i]).groupby(pd.Grouper(level='Date Local',freq='M')).mean().plot()\n",
    "plt.legend(pollCOTop,loc=3,fontsize='small')\n",
    "plt.title('CO AQI')\n",
    "\n",
    "plt.tight_layout()\n",
    "plt.show()"
   ]
  },
  {
   "cell_type": "code",
   "execution_count": null,
   "metadata": {},
   "outputs": [],
   "source": [
    "import pandas as pd\n",
    "import matplotlib.pyplot as plt\n",
    "import seaborn as sns\n",
    "\n",
    "poll.dropna(inplace=True)\n",
    "poll.reset_index(inplace=True, drop=True)\n",
    "sns.set(style=\"dark\")\n",
    "\n",
    "ax = sns.barplot(x=\"O3 AQI\", y=\"State\", data=poll, ci=100)\n",
    "fig = plt.gcf()\n",
    "fig.set_size_inches(11,6)"
   ]
  },
  {
   "cell_type": "code",
   "execution_count": null,
   "metadata": {},
   "outputs": [],
   "source": [
    "## California AQIs - resampled monthly\n",
    "pollCal = poll[(poll.State=='California')].copy()\n",
    "pollCal['Date Local'] = pd.to_datetime(pollCal['Date Local'],format='%Y-%m-%d')\n",
    "aqiCal = pollCal[['Date Local','NO2 AQI','O3 AQI','SO2 AQI','CO AQI']].groupby(['Date Local'])\n",
    "aqiCal = aqiCal.mean()\n",
    "aqiCal = aqiCal.resample('M').max() # Take maximum value over month for 4 AQIs. You can also use mean()"
   ]
  },
  {
   "cell_type": "code",
   "execution_count": null,
   "metadata": {},
   "outputs": [],
   "source": [
    "## Texas AQIs - resampled monthly\n",
    "pollTex = poll[(poll.State=='Texas')].copy()\n",
    "pollTex['Date Local'] = pd.to_datetime(pollTex['Date Local'],format='%Y-%m-%d')\n",
    "aqiTex = pollTex[['Date Local','NO2 AQI','O3 AQI','SO2 AQI','CO AQI']].groupby(['Date Local'])\n",
    "aqiTex = aqiTex.mean()\n",
    "aqiTex = aqiTex.resample('M').max()"
   ]
  },
  {
   "cell_type": "code",
   "execution_count": null,
   "metadata": {},
   "outputs": [],
   "source": [
    "## Plot data onto the basemap with FuncAnimation (displaying 4 AQI data over time)\n",
    "fig = plt.figure(figsize=(10,5))\n",
    "map = geopandas(llcrnrlon=-119,llcrnrlat=22,urcrnrlon=-64,urcrnrlat=49,projection='lcc',lat_1=33,lat_2=45,lon_0=-95)\n",
    "# I commented shapefile out...\n",
    "#map.readshapefile('../input/st99_d00', name='states', drawbounds=True)\n",
    "map.drawcoastlines()\n",
    "map.drawmapboundary(fill_color='#9fdbff',zorder=1)\n",
    "map.fillcontinents(color='#f0f8ff',lake_color='#9fdbff',alpha=0.8,zorder=1.5)\n",
    "map.drawcountries(linewidth=1.5, color='darkblue')\n",
    "map.drawstates()\n",
    "ax = plt.gca()\n",
    "\n",
    "## Initialize \n",
    "sizesCal = aqiCal.iloc[0]*10\n",
    "colorsCal = aqiCal.iloc[0]\n",
    "sizesTex = aqiTex.iloc[0]*10\n",
    "colorsTex = aqiTex.iloc[0]\n",
    "sizesNY = aqiNY.iloc[0]*10\n",
    "colorsNY = aqiNY.iloc[0]\n",
    "sizesIL = aqiIL.iloc[0]*10\n",
    "colorsIL = aqiIL.iloc[0]\n",
    "cmap, norm = mpl.colors.from_levels_and_colors([0,50,100,150,200,300,500], ['green','yellow','orange','red','purple','maroon'])\n",
    "m = mpl.cm.ScalarMappable(norm=norm, cmap=cmap)\n",
    "plt.title(aqiCal.index[0].strftime('%Y-%m'))\n",
    "\n",
    "# California\n",
    "x1,y1=map(-120.4179,37.7783)\n",
    "x2,y2=map(-118.4179,37.7783)\n",
    "x3,y3=map(-120.4179,35.7783)\n",
    "x4,y4=map(-118.4179,35.7783)\n",
    "scatter1 = map.scatter(np.array([x1,x2,x3,x4]),np.array([y1,y2,y3,y4]),s=sizesCal,c=colorsCal,cmap=cmap,norm=norm,alpha=0.9,edgecolors='face',zorder=3)\n",
    "x=[x1,x2,x3,x4]\n",
    "y=[y1,y2,y3,y4]\n",
    "labels=['NO2','O3','SO2','CO']\n",
    "for i, txt in enumerate(labels):\n",
    "    ax.annotate(labels[i],(x[i],y[i]),size=8,va='center',ha='center')\n",
    "\n",
    "# Texas\n",
    "x1,y1=map(-100.9018,32.9686)\n",
    "x2,y2=map(-98.9018,32.9686)\n",
    "x3,y3=map(-100.9018,30.9686)\n",
    "x4,y4=map(-98.9018,30.9686)\n",
    "scatter2 = map.scatter(np.array([x1,x2,x3,x4]),np.array([y1,y2,y3,y4]),s=sizesTex,c=colorsTex,cmap=cmap,norm=norm,alpha=0.9,edgecolors='face',zorder=3)\n",
    "x=[x1,x2,x3,x4]\n",
    "y=[y1,y2,y3,y4]\n",
    "labels=['NO2','O3','SO2','CO']\n",
    "for i, txt in enumerate(labels):\n",
    "    ax.annotate(labels[i],(x[i],y[i]),size=8,va='center',ha='center')\n",
    "\n",
    "# New York\n",
    "x1,y1=map(-75.2179,44.2994)\n",
    "x2,y2=map(-73.2179,44.2994)\n",
    "x3,y3=map(-75.2179,42.2994)\n",
    "x4,y4=map(-73.2179,42.2994)\n",
    "scatter3 = map.scatter(np.array([x1,x2,x3,x4]),np.array([y1,y2,y3,y4]),s=sizesNY,c=colorsNY,cmap=cmap,norm=norm,alpha=0.9,edgecolors='face',zorder=3)\n",
    "x=[x1,x2,x3,x4]\n",
    "y=[y1,y2,y3,y4]\n",
    "labels=['NO2','O3','SO2','CO']\n",
    "for i, txt in enumerate(labels):\n",
    "    ax.annotate(labels[i],(x[i],y[i]),size=8,va='center',ha='center')    \n",
    "\n",
    "# Illinois\n",
    "x1,y1=map(-90.3985,41.6331)\n",
    "x2,y2=map(-88.3985,41.6331)\n",
    "x3,y3=map(-90.3985,39.6331)\n",
    "x4,y4=map(-88.3985,39.6331)\n",
    "scatter4 = map.scatter(np.array([x1,x2,x3,x4]),np.array([y1,y2,y3,y4]),s=sizesIL,c=colorsIL,cmap=cmap,norm=norm,alpha=0.9,edgecolors='face',zorder=3)\n",
    "x=[x1,x2,x3,x4]\n",
    "y=[y1,y2,y3,y4]\n",
    "labels=['NO2','O3','SO2','CO']\n",
    "for i, txt in enumerate(labels):\n",
    "    ax.annotate(labels[i],(x[i],y[i]),size=8,va='center',ha='center')     \n",
    "    \n",
    "## Update function for animation\n",
    "def update(i):\n",
    "    scatter1.set_sizes(aqiCal.iloc[i]*10)\n",
    "    scatter1.set_color(m.to_rgba(aqiCal.iloc[i]))\n",
    "    scatter2.set_sizes(aqiTex.iloc[i]*10)\n",
    "    scatter2.set_color(m.to_rgba(aqiTex.iloc[i]))\n",
    "    scatter3.set_sizes(aqiNY.iloc[i]*10)\n",
    "    scatter3.set_color(m.to_rgba(aqiNY.iloc[i]))\n",
    "    scatter4.set_sizes(aqiIL.iloc[i]*10)\n",
    "    scatter4.set_color(m.to_rgba(aqiIL.iloc[i]))\n",
    "    plt.title(aqiCal.index[i].strftime('%Y-%m'))\n",
    "    return scatter1, scatter2, scatter3, scatter4, \n",
    "\n",
    "anim = FuncAnimation(plt.gcf(),update,interval=100,blit=True,repeat=False,frames=196)\n",
    "anim.save('aqis.gif', writer='imagemagick')"
   ]
  }
 ],
 "metadata": {
  "kernelspec": {
   "display_name": "Python [conda env:PythonData]",
   "language": "python",
   "name": "conda-env-PythonData-py"
  },
  "language_info": {
   "codemirror_mode": {
    "name": "ipython",
    "version": 3
   },
   "file_extension": ".py",
   "mimetype": "text/x-python",
   "name": "python",
   "nbconvert_exporter": "python",
   "pygments_lexer": "ipython3",
   "version": "3.6.4"
  }
 },
 "nbformat": 4,
 "nbformat_minor": 2
}
